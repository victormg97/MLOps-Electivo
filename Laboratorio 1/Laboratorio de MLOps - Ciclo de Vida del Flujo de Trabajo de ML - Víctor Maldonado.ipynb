{
 "cells": [
  {
   "cell_type": "markdown",
   "id": "1448820d",
   "metadata": {},
   "source": [
    "# Laboratorio de MLOps - Ciclo de Vida del Flujo de Trabajo de ML\n",
    "### Víctor Maldonado García\n",
    "___\n",
    "#### Objetivo General del Laboratorio\n",
    "Proporcionar experiencia práctica en la aplicación del ciclo de vida del flujo de trabajo de ML, desde la exploración y preprocesamiento de datos hasta la evaluación y mejora de modelos."
   ]
  },
  {
   "cell_type": "markdown",
   "id": "19f1ea36",
   "metadata": {},
   "source": [
    "___\n",
    "### 1° Exploración de datos"
   ]
  },
  {
   "cell_type": "markdown",
   "id": "f4125475",
   "metadata": {},
   "source": [
    "Utilizo un conjunto de datos de temblores en Chile que provee el Centro Sismológico Nacional."
   ]
  },
  {
   "cell_type": "code",
   "execution_count": 1,
   "id": "e9ab3f47",
   "metadata": {},
   "outputs": [
    {
     "name": "stdout",
     "output_type": "stream",
     "text": [
      "             Date(UTC)  Latitude  Longitude  Depth  Magnitude\n",
      "0  2024-03-27 05:08:28    -23.54     -68.21    148        5.4\n",
      "1  2024-03-24 19:50:11    -19.47     -70.08     74        5.1\n",
      "2  2024-03-13 09:30:06    -18.68     -69.52    114        5.1\n",
      "3  2024-02-14 01:31:42    -28.91     -71.44     45        5.8\n",
      "4  2024-02-11 21:14:43    -28.24     -71.32     44        5.7\n",
      "5  2024-02-03 00:48:55    -32.74     -70.66     92        5.0\n",
      "6  2024-01-24 08:05:10    -22.17     -68.77    132        5.4\n",
      "7  2023-12-24 03:23:41    -38.13     -74.16     36        5.4\n",
      "8  2023-12-21 16:21:52    -21.92     -70.25     55        5.8\n",
      "9  2023-12-16 22:15:44    -37.05     -74.23     16        4.6\n"
     ]
    }
   ],
   "source": [
    "import pandas as pd\n",
    "data = pd.read_csv('seismic_data.csv')\n",
    "print(data.head(10))"
   ]
  },
  {
   "cell_type": "markdown",
   "id": "a1c115cb",
   "metadata": {},
   "source": [
    "### 2° Preprocesamiento de datos"
   ]
  },
  {
   "cell_type": "markdown",
   "id": "c2a91e7e",
   "metadata": {},
   "source": [
    "Se preparan los datos para el modelado, incluyendo la limpieza y la normalización."
   ]
  },
  {
   "cell_type": "code",
   "execution_count": 2,
   "id": "395474cb",
   "metadata": {},
   "outputs": [],
   "source": [
    "from sklearn.model_selection import train_test_split\n",
    "from sklearn.preprocessing import StandardScaler"
   ]
  },
  {
   "cell_type": "code",
   "execution_count": 3,
   "id": "0bd889ea",
   "metadata": {},
   "outputs": [],
   "source": [
    "# Selección de características y variable objetivo\n",
    "X = data.drop('Date(UTC)', axis=1)\n",
    "y = data['Magnitude']\n",
    "\n",
    "# División en conjuntos de entrenamiento y prueba\n",
    "X_train, X_test, y_train, y_test = train_test_split(X, y, test_size=0.2, random_state=42)\n",
    "\n",
    "# Normalización\n",
    "scaler = StandardScaler()\n",
    "X_train_scaled = scaler.fit_transform(X_train)\n",
    "X_test_scaled = scaler.transform(X_test)\n"
   ]
  },
  {
   "cell_type": "markdown",
   "id": "0b73caff",
   "metadata": {},
   "source": [
    "## 3° Modelado Básico\n",
    "Entrenaremos un modelo de regresión lineal para predecir la magnitud de los temblores."
   ]
  },
  {
   "cell_type": "code",
   "execution_count": 4,
   "id": "2daca332",
   "metadata": {},
   "outputs": [
    {
     "data": {
      "text/html": [
       "<style>#sk-container-id-1 {color: black;background-color: white;}#sk-container-id-1 pre{padding: 0;}#sk-container-id-1 div.sk-toggleable {background-color: white;}#sk-container-id-1 label.sk-toggleable__label {cursor: pointer;display: block;width: 100%;margin-bottom: 0;padding: 0.3em;box-sizing: border-box;text-align: center;}#sk-container-id-1 label.sk-toggleable__label-arrow:before {content: \"▸\";float: left;margin-right: 0.25em;color: #696969;}#sk-container-id-1 label.sk-toggleable__label-arrow:hover:before {color: black;}#sk-container-id-1 div.sk-estimator:hover label.sk-toggleable__label-arrow:before {color: black;}#sk-container-id-1 div.sk-toggleable__content {max-height: 0;max-width: 0;overflow: hidden;text-align: left;background-color: #f0f8ff;}#sk-container-id-1 div.sk-toggleable__content pre {margin: 0.2em;color: black;border-radius: 0.25em;background-color: #f0f8ff;}#sk-container-id-1 input.sk-toggleable__control:checked~div.sk-toggleable__content {max-height: 200px;max-width: 100%;overflow: auto;}#sk-container-id-1 input.sk-toggleable__control:checked~label.sk-toggleable__label-arrow:before {content: \"▾\";}#sk-container-id-1 div.sk-estimator input.sk-toggleable__control:checked~label.sk-toggleable__label {background-color: #d4ebff;}#sk-container-id-1 div.sk-label input.sk-toggleable__control:checked~label.sk-toggleable__label {background-color: #d4ebff;}#sk-container-id-1 input.sk-hidden--visually {border: 0;clip: rect(1px 1px 1px 1px);clip: rect(1px, 1px, 1px, 1px);height: 1px;margin: -1px;overflow: hidden;padding: 0;position: absolute;width: 1px;}#sk-container-id-1 div.sk-estimator {font-family: monospace;background-color: #f0f8ff;border: 1px dotted black;border-radius: 0.25em;box-sizing: border-box;margin-bottom: 0.5em;}#sk-container-id-1 div.sk-estimator:hover {background-color: #d4ebff;}#sk-container-id-1 div.sk-parallel-item::after {content: \"\";width: 100%;border-bottom: 1px solid gray;flex-grow: 1;}#sk-container-id-1 div.sk-label:hover label.sk-toggleable__label {background-color: #d4ebff;}#sk-container-id-1 div.sk-serial::before {content: \"\";position: absolute;border-left: 1px solid gray;box-sizing: border-box;top: 0;bottom: 0;left: 50%;z-index: 0;}#sk-container-id-1 div.sk-serial {display: flex;flex-direction: column;align-items: center;background-color: white;padding-right: 0.2em;padding-left: 0.2em;position: relative;}#sk-container-id-1 div.sk-item {position: relative;z-index: 1;}#sk-container-id-1 div.sk-parallel {display: flex;align-items: stretch;justify-content: center;background-color: white;position: relative;}#sk-container-id-1 div.sk-item::before, #sk-container-id-1 div.sk-parallel-item::before {content: \"\";position: absolute;border-left: 1px solid gray;box-sizing: border-box;top: 0;bottom: 0;left: 50%;z-index: -1;}#sk-container-id-1 div.sk-parallel-item {display: flex;flex-direction: column;z-index: 1;position: relative;background-color: white;}#sk-container-id-1 div.sk-parallel-item:first-child::after {align-self: flex-end;width: 50%;}#sk-container-id-1 div.sk-parallel-item:last-child::after {align-self: flex-start;width: 50%;}#sk-container-id-1 div.sk-parallel-item:only-child::after {width: 0;}#sk-container-id-1 div.sk-dashed-wrapped {border: 1px dashed gray;margin: 0 0.4em 0.5em 0.4em;box-sizing: border-box;padding-bottom: 0.4em;background-color: white;}#sk-container-id-1 div.sk-label label {font-family: monospace;font-weight: bold;display: inline-block;line-height: 1.2em;}#sk-container-id-1 div.sk-label-container {text-align: center;}#sk-container-id-1 div.sk-container {/* jupyter's `normalize.less` sets `[hidden] { display: none; }` but bootstrap.min.css set `[hidden] { display: none !important; }` so we also need the `!important` here to be able to override the default hidden behavior on the sphinx rendered scikit-learn.org. See: https://github.com/scikit-learn/scikit-learn/issues/21755 */display: inline-block !important;position: relative;}#sk-container-id-1 div.sk-text-repr-fallback {display: none;}</style><div id=\"sk-container-id-1\" class=\"sk-top-container\"><div class=\"sk-text-repr-fallback\"><pre>LinearRegression()</pre><b>In a Jupyter environment, please rerun this cell to show the HTML representation or trust the notebook. <br />On GitHub, the HTML representation is unable to render, please try loading this page with nbviewer.org.</b></div><div class=\"sk-container\" hidden><div class=\"sk-item\"><div class=\"sk-estimator sk-toggleable\"><input class=\"sk-toggleable__control sk-hidden--visually\" id=\"sk-estimator-id-1\" type=\"checkbox\" checked><label for=\"sk-estimator-id-1\" class=\"sk-toggleable__label sk-toggleable__label-arrow\">LinearRegression</label><div class=\"sk-toggleable__content\"><pre>LinearRegression()</pre></div></div></div></div></div>"
      ],
      "text/plain": [
       "LinearRegression()"
      ]
     },
     "execution_count": 4,
     "metadata": {},
     "output_type": "execute_result"
    }
   ],
   "source": [
    "from sklearn.linear_model import LinearRegression\n",
    "\n",
    "model = LinearRegression()\n",
    "model.fit(X_train_scaled, y_train)"
   ]
  },
  {
   "cell_type": "markdown",
   "id": "1c181039",
   "metadata": {},
   "source": [
    "## 4° Evaluación de modelos\n",
    "Evaluaremos el rendimiento del modelo utilizando el conjunto de prueba."
   ]
  },
  {
   "cell_type": "code",
   "execution_count": 5,
   "id": "e26607ed",
   "metadata": {},
   "outputs": [
    {
     "name": "stdout",
     "output_type": "stream",
     "text": [
      "MSE: 1.847194957129091e-32\n",
      "R²: 1.00\n"
     ]
    }
   ],
   "source": [
    "from sklearn.metrics import mean_squared_error, r2_score\n",
    "\n",
    "y_pred = model.predict(X_test_scaled)\n",
    "mse = mean_squared_error(y_test, y_pred)\n",
    "r2 = r2_score(y_test, y_pred)\n",
    "\n",
    "print(f'MSE: {mse}')\n",
    "print(f'R²: {r2:.2f}')"
   ]
  },
  {
   "cell_type": "markdown",
   "id": "0c05effe",
   "metadata": {},
   "source": [
    "MSE (Error Cuadrático Medio): El valor del MSE es 1.847194957129091e-32. El MSE mide la diferencia promedio al cuadrado entre las predicciones del modelo y los valores reales en el conjunto de prueba. Un MSE cercano a cero indica que el modelo se ajusta perfectamente a los datos. En este caso, el valor extremadamente pequeño sugiere que las predicciones son muy cercanas a los valores reales.\n",
    "\n",
    "R² (Coeficiente de Determinación): El valor del R² es 1.00. El R² mide la proporción de la varianza total en la variable objetivo (en este caso, la magnitud) que se explica por el modelo. Un R² de 1.00 significa que el modelo explica el 100% de la variabilidad en la magnitud. En otras palabras, el modelo se ajusta perfectamente a los datos."
   ]
  },
  {
   "cell_type": "code",
   "execution_count": 6,
   "id": "fcb97d01",
   "metadata": {},
   "outputs": [
    {
     "name": "stdout",
     "output_type": "stream",
     "text": [
      "MSE: 1.847194957129091e-32\n",
      "Varianza de la variable objetivo: 0.4681168389219627\n",
      "Rango de la variable objetivo: 6.1000000000000005\n",
      "Relación MSE/Varianza: 3.9460126266404767e-32\n",
      "Relación MSE/Rango: 3.0281884543099852e-33\n"
     ]
    }
   ],
   "source": [
    "# Calculando la varianza y el rango de la variable objetivo\n",
    "variance = y.var()\n",
    "data_range = y.max() - y.min()\n",
    "\n",
    "print(f'MSE: {mse}')\n",
    "print(f'Varianza de la variable objetivo: {variance}')\n",
    "print(f'Rango de la variable objetivo: {data_range}')\n",
    "\n",
    "# Comparando el MSE con la varianza y el rango\n",
    "print(f'Relación MSE/Varianza: {mse/variance}')\n",
    "print(f'Relación MSE/Rango: {mse/data_range}')"
   ]
  },
  {
   "cell_type": "markdown",
   "id": "3835d257",
   "metadata": {},
   "source": [
    "Los resultados indican que el modelo es altamente preciso y se ajusta perfectamente a los datos de prueba.\n",
    "Sin embargo, hay que tener en cuenta que estos valores extremadamente pequeños pueden ser señales de sobreajuste. Hay que evaluar el modelo en datos no vistos y considerar técnicas como la validación cruzada para obtener estimaciones más robustas del rendimiento."
   ]
  },
  {
   "cell_type": "markdown",
   "id": "081e8c93",
   "metadata": {},
   "source": [
    "## 5° Iteración del modelo\n",
    "Para mejorar el modelo en la iteración, podemos ajustar hiperparámetros del algoritmo actual, como el número de iteraciones en la regresión lineal, o probar diferentes algoritmos que puedan capturar mejor la complejidad de los datos, como Random Forest o Gradient Boosting. También podríamos explorar técnicas avanzadas de preprocesamiento de datos o ingeniería de características para mejorar la precisión del modelo."
   ]
  },
  {
   "cell_type": "markdown",
   "id": "a9d9a660",
   "metadata": {},
   "source": [
    "A pesar de que el objetivo de este laboratorio es utilizar otro modelo que no fuera Random Forest, lo utilizaré primero para comparar resultados, luego utilizaré otro modelo. "
   ]
  },
  {
   "cell_type": "code",
   "execution_count": 7,
   "id": "31397886",
   "metadata": {},
   "outputs": [
    {
     "name": "stdout",
     "output_type": "stream",
     "text": [
      "Random Forest MSE: 5.180303030303395e-05\n"
     ]
    }
   ],
   "source": [
    "from sklearn.ensemble import RandomForestRegressor\n",
    "\n",
    "# Crear y entrenar el modelo de Random Forest\n",
    "rf_model = RandomForestRegressor(n_estimators=100, random_state=42)\n",
    "rf_model.fit(X_train_scaled, y_train)\n",
    "\n",
    "# Realizar predicciones con el modelo de Random Forest\n",
    "rf_pred = rf_model.predict(X_test_scaled)\n",
    "\n",
    "# Evaluar el modelo de Random Forest\n",
    "rf_mse = mean_squared_error(y_test, rf_pred)\n",
    "print(f'Random Forest MSE: {rf_mse}')"
   ]
  },
  {
   "cell_type": "markdown",
   "id": "0874bfce",
   "metadata": {},
   "source": [
    "Un MSE tan pequeño indica que Random Forest está realizando predicciones precisas en el conjunto de prueba. Sin embargo, como fue mencionado anteriormente, hay que tener en cuenta que valores extremadamente pequeños pueden ser señales de sobreajuste."
   ]
  },
  {
   "cell_type": "markdown",
   "id": "242ef524",
   "metadata": {},
   "source": [
    "#### Regresión Ridge\n",
    "Ahora para predecir la magnitud de los temblores, un modelo alternativo que probaré es la Regresión Ridge.\n",
    "El modelo de Regresión Ridge, es una extensión de la regresión lineal que incluye una regularización para evitar el sobreajuste. El parámetro alpha controla el nivel de regularización: valores más altos de alpha aumentan la cantidad de regularización aplicada al modelo."
   ]
  },
  {
   "cell_type": "code",
   "execution_count": 8,
   "id": "2e79db88",
   "metadata": {},
   "outputs": [
    {
     "name": "stdout",
     "output_type": "stream",
     "text": [
      "Error cuadrático medio (MSE) en conjunto de prueba: 2.577118711471428e-07\n"
     ]
    }
   ],
   "source": [
    "from sklearn.linear_model import Ridge\n",
    "\n",
    "# Dividir los datos en conjuntos de entrenamiento y prueba\n",
    "# X_train, X_test, y_train, y_test = train_test_split(X, Y, test_size=0.2, random_state=42)\n",
    "\n",
    "# Crear el modelo de Regresión Ridge\n",
    "modelo_ridge = Ridge(alpha=1.0)  # Alpha es el parámetro de regularización\n",
    "\n",
    "# Entrenar el modelo\n",
    "modelo_ridge.fit(X_train, y_train)\n",
    "\n",
    "# Realizar predicciones en el conjunto de prueba\n",
    "predicciones = modelo_ridge.predict(X_test)\n",
    "\n",
    "# Calcular el error cuadrático medio (MSE) en el conjunto de prueba\n",
    "mse = mean_squared_error(y_test, predicciones)\n",
    "print(\"Error cuadrático medio (MSE) en conjunto de prueba:\", mse)\n"
   ]
  },
  {
   "cell_type": "markdown",
   "id": "9f125040",
   "metadata": {},
   "source": [
    "un MSE tan bajo indica que el modelo está funcionando muy bien en términos de ajuste a los datos y capacidad predictiva. Esto es una buena señal de que el modelo de Regresión Ridge está siendo efectivo el problema de predicción de magnitudes de temblores."
   ]
  }
 ],
 "metadata": {
  "kernelspec": {
   "display_name": "Python 3 (ipykernel)",
   "language": "python",
   "name": "python3"
  },
  "language_info": {
   "codemirror_mode": {
    "name": "ipython",
    "version": 3
   },
   "file_extension": ".py",
   "mimetype": "text/x-python",
   "name": "python",
   "nbconvert_exporter": "python",
   "pygments_lexer": "ipython3",
   "version": "3.10.9"
  }
 },
 "nbformat": 4,
 "nbformat_minor": 5
}
